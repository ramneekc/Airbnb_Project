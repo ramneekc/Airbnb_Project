{
 "cells": [
  {
   "cell_type": "code",
   "execution_count": null,
   "metadata": {
    "scrolled": true
   },
   "outputs": [],
   "source": [
    "%matplotlib inline\n",
    "import pandas as pd\n",
    "import pygeoj\n",
    "import matplotlib.pyplot as plt\n",
    "import numpy as np\n",
    "import gmaps\n",
    "from config import gkey\n",
    "gmaps.configure(api_key=gkey)\n",
    "\n",
    "file1 = \"listings.csv\"\n",
    "file2 = \"calendar.csv\"\n",
    "file3 = \"reviews.csv\"\n",
    "file4 = \"neighbourhoods.csv\"\n",
    "file5 = \"listings_2018.csv\"\n",
    "file6 = \"listings_2017.csv\"\n",
    "file7 = \"listings_2016.csv\"\n",
    "file8 = \"listings_2015.csv\"\n",
    "listings = pd.read_csv(file1)\n",
    "listings_2018 = pd.read_csv(file5)\n",
    "listings_2017 = pd.read_csv(file6)\n",
    "listings_2016 = pd.read_csv(file7)\n",
    "listings_2015 = pd.read_csv(file8)\n",
    "calendar = pd.read_csv(file2)\n",
    "reviews = pd.read_csv(file3)\n",
    "neighbourhoods = pd.read_csv(file4)\n"
   ]
  },
  {
   "cell_type": "code",
   "execution_count": null,
   "metadata": {},
   "outputs": [],
   "source": [
    "pd.set_option('display.max_columns', None)\n",
    "listings.head()"
   ]
  },
  {
   "cell_type": "code",
   "execution_count": null,
   "metadata": {},
   "outputs": [],
   "source": [
    "#Cleaning listings.csv\n",
    "listings1 = listings.drop(['listing_url','scrape_id','last_scraped','name','summary','space','description','experiences_offered',\n",
    "                           'neighborhood_overview','notes','transit','access','interaction','house_rules','thumbnail_url',\n",
    "                           'medium_url','picture_url','xl_picture_url','thumbnail_url','medium_url','xl_picture_url',\n",
    "                           'host_acceptance_rate','host_thumbnail_url','neighbourhood_group_cleansed','square_feet',\n",
    "                           'minimum_minimum_nights','maximum_minimum_nights','minimum_maximum_nights','maximum_maximum_nights',\n",
    "                           'minimum_nights_avg_ntm','maximum_nights_avg_ntm','require_guest_profile_picture','host_about',\n",
    "                           'host_response_time','host_response_rate','host_picture_url','host_verifications','host_has_profile_pic',\n",
    "                           'market','smart_location','country_code','country','require_guest_phone_verification','bed_type',\n",
    "                           'amenities','review_scores_accuracy','review_scores_cleanliness','review_scores_checkin',\n",
    "                           'review_scores_communication','review_scores_location','review_scores_value','requires_license',\n",
    "                           'jurisdiction_names','license','is_business_travel_ready'],axis=1)\n",
    "listings1.head()"
   ]
  },
  {
   "cell_type": "code",
   "execution_count": null,
   "metadata": {},
   "outputs": [],
   "source": [
    "# listings1.rename(columns={\"A\": \"a\", \"B\": \"c\"})"
   ]
  },
  {
   "cell_type": "code",
   "execution_count": null,
   "metadata": {},
   "outputs": [],
   "source": [
    "values = {'weekly_price': 0, 'monthly_price': 0, 'security_deposit': 0, 'cleaning_fee': 0, 'review_scores_rating': 0,\n",
    "          'reviews_per_month': 0}\n",
    "listings1.fillna(value=values).head()"
   ]
  },
  {
   "cell_type": "code",
   "execution_count": null,
   "metadata": {},
   "outputs": [],
   "source": [
    "listings2 = listings1[['host_id','price','room_type','availability_365']]\n",
    "listings2.head()"
   ]
  },
  {
   "cell_type": "code",
   "execution_count": null,
   "metadata": {},
   "outputs": [],
   "source": [
    "#Data for 2019\n",
    "\n",
    "# listings2['price'] = listings2['price'].map(lambda x: x.lstrip('$'))\n",
    "# ans =[]\n",
    "# for num in listings2['price']:\n",
    "#     sol = (num.replace('$',''))\n",
    "#     ans.append(int((sol)) \n",
    "# print(ans)               \n",
    "# listings3['price'] = listings2['price'].apply(pd.to_numeric, errors='coerce')\n",
    "# price_mean_19 = listings2.loc[listings['room_type']=='Entire home/apt']['price'].mean()\n",
    "\n",
    "price_mean_19 = listings2.loc[listings['room_type']=='Entire home/apt']\n",
    "x = (price_mean_19['price']).replace(\",\",\"\")    \n",
    "\n",
    "# price_mean1_19 = listings3.loc[listings['room_type']=='Private room']['price'].mean()\n",
    "# price_mean2_19 = listings3.loc[listings['room_type']=='Shared room']['price'].mean()\n",
    "\n",
    "# av_mean_19 = listings3.loc[listings['room_type']=='Entire home/apt']['availability_365'].mean()\n",
    "# av_mean1_19 = listings3.loc[listings['room_type']=='Private room']['availability_365'].mean()\n",
    "# av_mean2_19 = listings3.loc[listings['room_type']=='Shared room']['availability_365'].mean()\n",
    "\n",
    "# print(f'Mean price for Entire home/apt is {price_mean_19}')\n",
    "# print(f'Mean price for Private room is {price_mean1_19}')\n",
    "# print(f'Mean price for Shared room is {price_mean2_19}')\n",
    "# print(f'Mean availablity for Entire home/apt is {av_mean_19}')\n",
    "# print(f'Mean availablity for Private room is {av_mean1_19}')\n",
    "# print(f'Mean availablity for Shared room is {av_mean2_19}')\n",
    "\n",
    "\n",
    "\n",
    "\n"
   ]
  },
  {
   "cell_type": "code",
   "execution_count": null,
   "metadata": {},
   "outputs": [],
   "source": [
    "listings_2018.head()"
   ]
  },
  {
   "cell_type": "code",
   "execution_count": null,
   "metadata": {},
   "outputs": [],
   "source": [
    "price_mean_18 = listings_2018.loc[listings_2018['room_type']=='Entire home/apt']['price'].mean()\n",
    "price_mean1_18 = listings_2018.loc[listings_2018['room_type']=='Private room']['price'].mean()\n",
    "price_mean2_18 = listings_2018.loc[listings_2018['room_type']=='Shared room']['price'].mean()\n",
    "\n",
    "av_mean_18 = listings_2018.loc[listings_2018['room_type']=='Entire home/apt']['availability_365'].mean()\n",
    "av_mean1_18 = listings_2018.loc[listings_2018['room_type']=='Private room']['availability_365'].mean()\n",
    "av_mean2_18 = listings_2018.loc[listings_2018['room_type']=='Shared room']['availability_365'].mean()\n"
   ]
  },
  {
   "cell_type": "code",
   "execution_count": null,
   "metadata": {},
   "outputs": [],
   "source": [
    "price_mean_17 = listings_2017.loc[listings_2017['room_type']=='Entire home/apt']['price'].mean()\n",
    "price_mean1_17 = listings_2017.loc[listings_2017['room_type']=='Private room']['price'].mean()\n",
    "price_mean2_17 = listings_2017.loc[listings_2017['room_type']=='Shared room']['price'].mean()\n",
    "\n",
    "av_mean_17 = listings_2017.loc[listings_2017['room_type']=='Entire home/apt']['availability_365'].mean()\n",
    "av_mean1_17 = listings_2017.loc[listings_2017['room_type']=='Private room']['availability_365'].mean()\n",
    "av_mean2_17 = listings_2017.loc[listings_2017['room_type']=='Shared room']['availability_365'].mean()\n"
   ]
  },
  {
   "cell_type": "code",
   "execution_count": null,
   "metadata": {},
   "outputs": [],
   "source": [
    "price_mean_16 = listings_2016.loc[listings_2016['room_type']=='Entire home/apt']['price'].mean()\n",
    "price_mean1_16 = listings_2016.loc[listings_2016['room_type']=='Private room']['price'].mean()\n",
    "price_mean2_16 = listings_2016.loc[listings_2016['room_type']=='Shared room']['price'].mean()\n",
    "\n",
    "av_mean_16 = listings_2016.loc[listings_2016['room_type']=='Entire home/apt']['availability_365'].mean()\n",
    "av_mean1_16 = listings_2016.loc[listings_2016['room_type']=='Private room']['availability_365'].mean()\n",
    "av_mean2_16 = listings_2016.loc[listings_2016['room_type']=='Shared room']['availability_365'].mean()\n"
   ]
  },
  {
   "cell_type": "code",
   "execution_count": null,
   "metadata": {},
   "outputs": [],
   "source": [
    "price_mean_15 = listings_2015.loc[listings_2015['room_type']=='Entire home/apt']['price'].mean()\n",
    "price_mean1_15 = listings_2015.loc[listings_2015['room_type']=='Private room']['price'].mean()\n",
    "price_mean2_15 = listings_2015.loc[listings_2015['room_type']=='Shared room']['price'].mean()\n",
    "\n",
    "av_mean_15 = listings_2015.loc[listings_2015['room_type']=='Entire home/apt']['availability_365'].mean()\n",
    "av_mean1_15 = listings_2015.loc[listings_2015['room_type']=='Private room']['availability_365'].mean()\n",
    "av_mean2_15 = listings_2015.loc[listings_2015['room_type']=='Shared room']['availability_365'].mean()\n"
   ]
  },
  {
   "cell_type": "code",
   "execution_count": null,
   "metadata": {},
   "outputs": [],
   "source": [
    "df_entire_home_apt = pd.DataFrame({'Price':[int(price_mean_15),int(price_mean_16),int(price_mean_17),int(price_mean_18)],\n",
    "                        'Availability':[int(av_mean_15),int(av_mean_16),int(av_mean_17),int(av_mean_18)]})\n",
    "df_private_room = pd.DataFrame({'Price':[int(price_mean1_15),int(price_mean1_16),int(price_mean1_17),int(price_mean1_18)],\n",
    "                        'Availability':[av_mean1_15,av_mean1_16,av_mean1_17,av_mean1_18]})\n",
    "df_shared_room = pd.DataFrame({'Price':[int(price_mean2_15),int(price_mean2_16),int(price_mean2_17),int(price_mean2_18)],\n",
    "                        'Availability':[av_mean2_15,av_mean2_16,av_mean2_17,av_mean2_18]})\n",
    "\n",
    "ax = df_entire_home_apt.plot(kind = 'bar', x='Availability', y='Price',rot=0, title= 'Price and availability trend for Entire home/apt')\n",
    "ax1= df_private_room.plot(kind ='bar', x='Price', y='Availability', rot=0,title= 'Price and availability trend for Private room')\n",
    "ax2= df_shared_room.plot(kind ='bar', x='Price', y='Availability', rot=0,title= 'Price and availability trend for Shared room')\n"
   ]
  },
  {
   "cell_type": "code",
   "execution_count": null,
   "metadata": {},
   "outputs": [],
   "source": [
    "listings_entire = listings1.loc[listings['room_type']=='Entire home/apt']\n",
    "listings_private = listings1.loc[listings['room_type']=='Entire home/apt']\n",
    "listings_shared = listings1.loc[listings['room_type']=='Entire home/apt']\n",
    "coordinates_entire = listings_entire[['latitude','longitude']].apply(tuple, axis=1)\n",
    "coordinates_private = listings_entire[['latitude','longitude']].apply(tuple, axis=1)\n",
    "coordinates_shared = listings_entire[['latitude','longitude']].apply(tuple, axis=1)"
   ]
  },
  {
   "cell_type": "code",
   "execution_count": null,
   "metadata": {},
   "outputs": [],
   "source": [
    "figure_layout = {\n",
    "    'width': '800px',\n",
    "    'height': '600px',\n",
    "    'border': '2px solid black',\n",
    "    'padding': '1px',\n",
    "    'margin': '0 auto 0 auto'\n",
    "}\n",
    "fig = gmaps.figure(layout=figure_layout)\n",
    "fig"
   ]
  },
  {
   "cell_type": "code",
   "execution_count": null,
   "metadata": {},
   "outputs": [],
   "source": [
    "location_entire = gmaps.symbol_layer(coordinates_entire,fill_color='red',stroke_color='red',scale=1)\n",
    "location_private = gmaps.symbol_layer(coordinates_private,fill_color='green',stroke_color='green',scale=1)\n",
    "location_shared = gmaps.symbol_layer(coordinates_shared,fill_color='blue',stroke_color='blue',scale=1)\n",
    "fig.add_layer(location_entire)\n",
    "fig.add_layer(location_private)\n",
    "fig.add_layer(location_shared)\n",
    "fig"
   ]
  },
  {
   "cell_type": "code",
   "execution_count": null,
   "metadata": {},
   "outputs": [],
   "source": [
    "# t = listings['room_type'].count()\n",
    "# x = listings.loc[listings['room_type']=='Entire home/apt']\n",
    "# y = listings.loc[listings['room_type']=='Private room']\n",
    "# z = listings.loc[listings['room_type']=='Shared room']\n",
    "# per_entire_home = x['room_type'].count()/t*100\n",
    "# per_\n",
    "# per_entire_home"
   ]
  },
  {
   "cell_type": "code",
   "execution_count": null,
   "metadata": {},
   "outputs": [],
   "source": [
    "# listings1['host_is_superhost'].value_counts()\n",
    "# listings1['host_id'].nunique()\n",
    "# listings['host_identity_verified'].value_counts()\n"
   ]
  },
  {
   "cell_type": "code",
   "execution_count": null,
   "metadata": {},
   "outputs": [],
   "source": []
  }
 ],
 "metadata": {
  "kernelspec": {
   "display_name": "Python 3",
   "language": "python",
   "name": "python3"
  },
  "language_info": {
   "codemirror_mode": {
    "name": "ipython",
    "version": 3
   },
   "file_extension": ".py",
   "mimetype": "text/x-python",
   "name": "python",
   "nbconvert_exporter": "python",
   "pygments_lexer": "ipython3",
   "version": "3.7.3"
  }
 },
 "nbformat": 4,
 "nbformat_minor": 2
}
